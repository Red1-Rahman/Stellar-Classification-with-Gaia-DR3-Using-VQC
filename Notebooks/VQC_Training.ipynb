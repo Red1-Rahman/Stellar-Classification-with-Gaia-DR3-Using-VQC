{
 "cells": [
  {
   "cell_type": "code",
   "execution_count": null,
   "id": "626bbbba",
   "metadata": {},
   "outputs": [],
   "source": [
    "import os\n",
    "import pandas as pd\n",
    "import numpy as np\n",
    "import torch\n",
    "import torch.nn as nn\n",
    "from sklearn.model_selection import train_test_split\n",
    "from sklearn.preprocessing import StandardScaler\n",
    "from sklearn.metrics import accuracy_score, confusion_matrix\n",
    "import pennylane as qml\n",
    "from pennylane import numpy as npqml"
   ]
  },
  {
   "cell_type": "code",
   "execution_count": null,
   "id": "084ee522",
   "metadata": {},
   "outputs": [],
   "source": [
    "processed_csv = \"../Datasets/Processed/gaia_features_20.csv\"\n",
    "if not os.path.exists(processed_csv):\n",
    "    raise FileNotFoundError(f\"{processed_csv} not found. Run gaia_feature_selection.py first.\")\n",
    "\n",
    "df = pd.read_csv(processed_csv)\n",
    "print(\"Loaded dataset shape:\", df.shape)\n",
    "\n",
    "# Features and labels\n",
    "X = df.drop(columns=[\"label\"]).values\n",
    "y = df[\"label\"].values\n",
    "\n",
    "# Train/test split\n",
    "X_train, X_test, y_train, y_test = train_test_split(\n",
    "    X, y, test_size=0.2, random_state=42, stratify=y\n",
    ")\n",
    "\n",
    "# Normalize features\n",
    "scaler = StandardScaler()\n",
    "X_train_scaled = scaler.fit_transform(X_train)\n",
    "X_test_scaled = scaler.transform(X_test)\n",
    "\n",
    "# Convert to Torch tensors\n",
    "X_train_t = torch.tensor(X_train_scaled, dtype=torch.float32)\n",
    "X_test_t = torch.tensor(X_test_scaled, dtype=torch.float32)\n",
    "y_train_t = torch.tensor(y_train, dtype=torch.long)\n",
    "y_test_t = torch.tensor(y_test, dtype=torch.long)"
   ]
  },
  {
   "cell_type": "code",
   "execution_count": null,
   "id": "446423d0",
   "metadata": {},
   "outputs": [],
   "source": [
    "n_qubits = 4  # can increase depending on feature encoding\n",
    "n_layers = 2\n",
    "\n",
    "dev = qml.device(\"default.qubit\", wires=n_qubits)\n",
    "\n",
    "def angle_embedding(x, wires):\n",
    "    \"\"\"Encode features into qubit rotations (truncating/padding as needed).\"\"\"\n",
    "    x = np.array(x)\n",
    "    # Truncate or pad features to match n_qubits\n",
    "    if len(x) < len(wires):\n",
    "        x = np.pad(x, (0, len(wires) - len(x)))\n",
    "    elif len(x) > len(wires):\n",
    "        x = x[:len(wires)]\n",
    "    for i, wire in enumerate(wires):\n",
    "        qml.RY(x[i], wires=wire)\n",
    "\n",
    "@qml.qnode(dev, interface=\"torch\")\n",
    "def circuit(inputs, weights):\n",
    "    angle_embedding(inputs, wires=range(n_qubits))\n",
    "    qml.BasicEntanglerLayers(weights, wires=range(n_qubits))\n",
    "    return [qml.expval(qml.PauliZ(i)) for i in range(n_qubits)]"
   ]
  },
  {
   "cell_type": "code",
   "execution_count": null,
   "id": "516e7ead",
   "metadata": {},
   "outputs": [],
   "source": [
    "weight_shapes = {\"weights\": (n_layers, n_qubits)}\n",
    "qlayer = qml.qnn.TorchLayer(circuit, weight_shapes)\n",
    "\n",
    "class VQCClassifier(nn.Module):\n",
    "    def __init__(self):\n",
    "        super().__init__()\n",
    "        self.qlayer = qlayer\n",
    "        self.fc = nn.Linear(n_qubits, 2)  # 2 classes: nearby vs distant\n",
    "\n",
    "    def forward(self, x):\n",
    "        x = self.qlayer(x)\n",
    "        return self.fc(x)\n",
    "\n",
    "model = VQCClassifier()\n",
    "optimizer = torch.optim.Adam(model.parameters(), lr=0.01)\n",
    "loss_fn = nn.CrossEntropyLoss()"
   ]
  },
  {
   "cell_type": "code",
   "execution_count": null,
   "id": "e8524adf",
   "metadata": {},
   "outputs": [],
   "source": [
    "n_epochs = 50\n",
    "for epoch in range(n_epochs):\n",
    "    optimizer.zero_grad()\n",
    "    outputs = model(X_train_t)\n",
    "    loss = loss_fn(outputs, y_train_t)\n",
    "    loss.backward()\n",
    "    optimizer.step()\n",
    "    if epoch % 5 == 0:\n",
    "        print(f\"Epoch {epoch}, Loss: {loss.item():.4f}\")"
   ]
  },
  {
   "cell_type": "code",
   "execution_count": null,
   "id": "a11c6533",
   "metadata": {},
   "outputs": [],
   "source": [
    "with torch.no_grad():\n",
    "    y_pred_t = model(X_test_t)\n",
    "    y_pred = torch.argmax(y_pred_t, dim=1).numpy()\n",
    "\n",
    "acc = accuracy_score(y_test, y_pred)\n",
    "cm = confusion_matrix(y_test, y_pred)\n",
    "\n",
    "print(f\"\\nTest Accuracy: {acc:.4f}\")\n",
    "print(\"Confusion Matrix:\")\n",
    "print(cm)"
   ]
  },
  {
   "cell_type": "code",
   "execution_count": null,
   "id": "bbb30b76",
   "metadata": {},
   "outputs": [],
   "source": [
    "os.makedirs(\"../Results\", exist_ok=True)\n",
    "\n",
    "# Save predictions\n",
    "pred_df = pd.DataFrame({\n",
    "    \"y_true\": y_test,\n",
    "    \"y_pred\": y_pred\n",
    "})\n",
    "pred_df.to_csv(\"../Results/vqc_predictions.csv\", index=False)\n",
    "print(\"Predictions saved to Results/vqc_predictions.csv\")\n",
    "\n",
    "# Save model weights\n",
    "torch.save(model.state_dict(), \"../Results/vqc_model.pt\")\n",
    "print(\"Model weights saved to Results/vqc_model.pt\")"
   ]
  }
 ],
 "metadata": {
  "kernelspec": {
   "display_name": "Python 3",
   "language": "python",
   "name": "python3"
  },
  "language_info": {
   "name": "python",
   "version": "3.10.11"
  }
 },
 "nbformat": 4,
 "nbformat_minor": 5
}
